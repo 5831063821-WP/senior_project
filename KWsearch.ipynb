{
 "cells": [
  {
   "cell_type": "code",
   "execution_count": 110,
   "metadata": {},
   "outputs": [],
   "source": [
    "import nltk \n",
    "from nltk.tokenize import sent_tokenize, word_tokenize\n",
    "from nltk.corpus import stopwords\n",
    "from nltk.corpus import wordnet \n",
    "from nltk.stem import WordNetLemmatizer , PorterStemmer\n",
    "stop_words = set(stopwords.words('english'))"
   ]
  },
  {
   "cell_type": "code",
   "execution_count": 111,
   "metadata": {},
   "outputs": [
    {
     "name": "stdout",
     "output_type": "stream",
     "text": [
      "the system should be able to check authorization rules when users makes request to access server.\n"
     ]
    }
   ],
   "source": [
    "sentence = \"The system should be able to check authorization rules when users makes request to access server.\"\n",
    "sentence = sentence.lower()\n",
    "print(sentence)"
   ]
  },
  {
   "cell_type": "code",
   "execution_count": 112,
   "metadata": {},
   "outputs": [
    {
     "name": "stdout",
     "output_type": "stream",
     "text": [
      "['system', 'able', 'check', 'authorization', 'rules', 'users', 'makes', 'request', 'access', 'server', '.']\n"
     ]
    }
   ],
   "source": [
    "wordsList = word_tokenize(sentence)   \n",
    "wordsList = [w for w in wordsList if not w in stop_words]  \n",
    "print(wordsList)"
   ]
  },
  {
   "cell_type": "code",
   "execution_count": 113,
   "metadata": {},
   "outputs": [
    {
     "name": "stdout",
     "output_type": "stream",
     "text": [
      "['system', 'able', 'check', 'authorization', 'rule', 'user', 'make', 'request', 'access', 'server', '.']\n"
     ]
    }
   ],
   "source": [
    "lemmatizer = WordNetLemmatizer() \n",
    "lemma_word = list()\n",
    "for e in wordsList:\n",
    "    lemma_word.append(lemmatizer.lemmatize(e))\n",
    "print(lemma_word)"
   ]
  },
  {
   "cell_type": "code",
   "execution_count": 114,
   "metadata": {},
   "outputs": [],
   "source": [
    "#2 score common word in each grammar\n",
    "_access = ['access','approach','gain','entry']\n",
    "#3 score\n",
    "_deny   = ['refuse','deny','reject','decline']\n",
    "_permit = ['allow' ,'permit' ,'authorize','grant','approve']\n",
    "\n",
    "#access  , permission\n",
    "au1 = { 1: ['user','can'],\n",
    "        2: _access, \n",
    "        5: ['permission'] } \n",
    "\n",
    "#deny , unauthorized\n",
    "au2 = { 1: ['system'], \n",
    "        3: _deny + ['access'], \n",
    "        5: ['unauthorized']}   \n",
    "\n",
    "#permit , authorized\n",
    "au3 = { 1: ['system'], \n",
    "        3: _permit, \n",
    "        5: ['authorized','access']}\n",
    "\n",
    "\n",
    "#access , role\n",
    "_role = ['manager','admin']\n",
    "RBAC  = { 1: ['user'],\n",
    "          2: _access,\n",
    "          3: ['obtain','role'],\n",
    "          5: _role }\n",
    "\n",
    "#access , level\n",
    "_level = ['high','medium' ,'low']\n",
    "_data_level = ['public','sensitive','restrictive']\n",
    "\n",
    "MAC = { 1: ['user'],\n",
    "        2: _access,\n",
    "        3: _level,\n",
    "        5: _data_level}\n",
    "\n",
    "#access , rule ,inspect\n",
    "_inspect = ['check','inspect','examine','consider']\n",
    "\n",
    "RM = { 1:['system','user'], \n",
    "       2: _access + ['authorization','rule','request'],\n",
    "       3:_inspect} \n",
    "\n",
    "#CUDE , define , OBJ\n",
    "_cude = ['create' ,'update','delete','edit']\n",
    "_define = ['assign','determine','establish','specify','charify','prescribe']\n",
    "_obj = ['role','user','rule','right','authorization']\n",
    "\n",
    "RR = { 1:['administrator'],\n",
    "       2: _obj ,\n",
    "       3: _cude +_define }"
   ]
  },
  {
   "cell_type": "code",
   "execution_count": 115,
   "metadata": {},
   "outputs": [
    {
     "data": {
      "text/plain": [
       "['system',\n",
       " 'able',\n",
       " 'check',\n",
       " 'authorization',\n",
       " 'rule',\n",
       " 'user',\n",
       " 'make',\n",
       " 'request',\n",
       " 'access',\n",
       " 'server',\n",
       " '.']"
      ]
     },
     "execution_count": 115,
     "metadata": {},
     "output_type": "execute_result"
    }
   ],
   "source": [
    "lemma_word"
   ]
  },
  {
   "cell_type": "code",
   "execution_count": 116,
   "metadata": {},
   "outputs": [],
   "source": [
    "score_each_grammar = {'au1':0 ,'au2':0 ,'au3':0,'RBAC':0,'MAC':0,'RM':0,'RR':0}\n",
    "grammar = [('au1',au1),('au2',au2),('au3',au3),('RBAC',RBAC),('MAC',MAC),('RM',RM),('RR',RR)]"
   ]
  },
  {
   "cell_type": "code",
   "execution_count": 117,
   "metadata": {},
   "outputs": [],
   "source": [
    "for w in lemma_word:\n",
    "    for ng , dl in grammar:\n",
    "        for score in dl :\n",
    "            if w in dl[score]:\n",
    "                score_each_grammar[ng] = score_each_grammar[ng] + score"
   ]
  },
  {
   "cell_type": "code",
   "execution_count": 118,
   "metadata": {},
   "outputs": [
    {
     "data": {
      "text/plain": [
       "['system',\n",
       " 'able',\n",
       " 'check',\n",
       " 'authorization',\n",
       " 'rule',\n",
       " 'user',\n",
       " 'make',\n",
       " 'request',\n",
       " 'access',\n",
       " 'server',\n",
       " '.']"
      ]
     },
     "metadata": {},
     "output_type": "display_data"
    },
    {
     "data": {
      "text/plain": [
       "{'au1': 3, 'au2': 4, 'au3': 6, 'RBAC': 3, 'MAC': 3, 'RM': 13, 'RR': 6}"
      ]
     },
     "execution_count": 118,
     "metadata": {},
     "output_type": "execute_result"
    }
   ],
   "source": [
    "display(lemma_word)\n",
    "score_each_grammar"
   ]
  },
  {
   "cell_type": "code",
   "execution_count": 119,
   "metadata": {},
   "outputs": [],
   "source": [
    "def ingrammar(score_each_grammar):\n",
    "    max_scre_grammar = -1\n",
    "    grammar_key = ''\n",
    "    for k in score_each_grammar:\n",
    "        if(score_each_grammar[k] > max_scre_grammar):\n",
    "            max_scre_grammar = score_each_grammar[k]\n",
    "            grammar_key = k\n",
    "    return grammar_key\n"
   ]
  },
  {
   "cell_type": "code",
   "execution_count": 144,
   "metadata": {},
   "outputs": [],
   "source": [
    "def lemmatize_sentence(sentence):\n",
    "    sentence = sentence.lower()\n",
    "    wordsList = word_tokenize(sentence)   \n",
    "    wordsList = [w for w in wordsList if not w in stop_words] \n",
    "    lemmatizer = WordNetLemmatizer() \n",
    "    lemma_word = list()\n",
    "    for e in wordsList:\n",
    "        lemma_word.append(lemmatizer.lemmatize(e))\n",
    "    return lemma_word\n",
    "    \n",
    "def calculate_score(score_each_grammar,sentence,grammar):\n",
    "    for w in sentence:\n",
    "        for ng , dl in grammar:\n",
    "            for score in dl :\n",
    "                if w in dl[score]:\n",
    "                    score_each_grammar[ng] = score_each_grammar[ng] + score\n"
   ]
  },
  {
   "cell_type": "code",
   "execution_count": 151,
   "metadata": {},
   "outputs": [],
   "source": [
    "def grammar(sentence):\n",
    "    score_each_grammar = {'au1':0 ,'au2':0 ,'au3':0,'RBAC':0,'MAC':0,'RM':0,'RR':0}\n",
    "    grammar = [('au1',au1),('au2',au2),('au3',au3),('RBAC',RBAC),('MAC',MAC),('RM',RM),('RR',RR)]\n",
    "    lemma_word = lemmatize_sentence(sentence)\n",
    "    calculate_score(score_each_grammar,lemma_word,grammar)\n",
    "    grammar_pattern = ingrammar(score_each_grammar)\n",
    "    if(score_each_grammar[grammar_pattern] < 7): return 'NOT MATCH IN OUR PATTERN'\n",
    "    return grammar_pattern "
   ]
  },
  {
   "cell_type": "code",
   "execution_count": 133,
   "metadata": {},
   "outputs": [],
   "source": [
    "# grammar(\"The system should be able to check authorization rules when users makes request to access server.\")"
   ]
  },
  {
   "cell_type": "code",
   "execution_count": 134,
   "metadata": {},
   "outputs": [],
   "source": [
    "# grammar('The administrator has the right to define authorization rules.')"
   ]
  },
  {
   "cell_type": "code",
   "execution_count": 135,
   "metadata": {},
   "outputs": [],
   "source": [
    "# grammar('Users who have a high clearance level can access server which have a high classification level')"
   ]
  },
  {
   "cell_type": "code",
   "execution_count": 136,
   "metadata": {},
   "outputs": [],
   "source": [
    "# grammar('Users who obtain engineer role can access server.')"
   ]
  },
  {
   "cell_type": "code",
   "execution_count": 137,
   "metadata": {},
   "outputs": [],
   "source": [
    "# grammar('The system shall be able to permit authorized access.')"
   ]
  },
  {
   "cell_type": "code",
   "execution_count": 138,
   "metadata": {},
   "outputs": [],
   "source": [
    "# grammar('The system shall be able to deny unauthorized access.')"
   ]
  },
  {
   "cell_type": "code",
   "execution_count": 139,
   "metadata": {},
   "outputs": [],
   "source": [
    "# grammar('Users can access data for which they have permissions.')"
   ]
  },
  {
   "cell_type": "code",
   "execution_count": 158,
   "metadata": {},
   "outputs": [
    {
     "name": "stdout",
     "output_type": "stream",
     "text": [
      "7\n"
     ]
    },
    {
     "data": {
      "text/plain": [
       "['Users can access data for which they have permissions.',\n",
       " 'The system shall be able to deny unauthorized access.',\n",
       " 'The system shall be able to permit authorized access.',\n",
       " 'Users who obtain engineer role can access server.',\n",
       " 'Users who have a high clearance level can access server which have a high classification level.',\n",
       " 'The system should be able to check authorzation rules when users makes request to access server.',\n",
       " 'The system shall be able to keep logging to data log']"
      ]
     },
     "metadata": {},
     "output_type": "display_data"
    }
   ],
   "source": [
    "sentences = \"Users can access data for which they have permissions.\\\n",
    "                The system shall be able to deny unauthorized access.\\\n",
    "                The system shall be able to permit authorized access.\\\n",
    "                Users who obtain engineer role can access server.\\\n",
    "                Users who have a high clearance level can access server which have a high classification level.\\\n",
    "               The system should be able to check authorzation rules when users makes request to access server.\\\n",
    "               The system shall be able to keep logging to data log\"\n",
    "listsent = sent_tokenize(sentences)\n",
    "print(len(listsent))\n",
    "display(listsent)"
   ]
  },
  {
   "cell_type": "code",
   "execution_count": 159,
   "metadata": {},
   "outputs": [
    {
     "name": "stdout",
     "output_type": "stream",
     "text": [
      "au1 : Users can access data for which they have permissions.\n",
      "au2 : The system shall be able to deny unauthorized access.\n",
      "au3 : The system shall be able to permit authorized access.\n",
      "RBAC : Users who obtain engineer role can access server.\n",
      "MAC : Users who have a high clearance level can access server which have a high classification level.\n",
      "RM : The system should be able to check authorzation rules when users makes request to access server.\n",
      "NOT MATCH IN OUR PATTERN : The system shall be able to keep logging to data log\n"
     ]
    }
   ],
   "source": [
    "check_list = {'au1':0 ,'au2':0 ,'au3':0,'RBAC':0,'MAC':0,'RM':0,'RR':0}\n",
    "for sentence in listsent:\n",
    "    check_list[grammar(sentence)] = 1\n",
    "    print( grammar(sentence) + \" : \" + sentence)"
   ]
  },
  {
   "cell_type": "code",
   "execution_count": 162,
   "metadata": {},
   "outputs": [
    {
     "name": "stdout",
     "output_type": "stream",
     "text": [
      "RR is missing pattern\n"
     ]
    }
   ],
   "source": [
    "for k , v in check_list.items() :\n",
    "    if v == 0:\n",
    "        print(k + ' is missing pattern')"
   ]
  },
  {
   "cell_type": "code",
   "execution_count": null,
   "metadata": {},
   "outputs": [],
   "source": []
  }
 ],
 "metadata": {
  "kernelspec": {
   "display_name": "Python 3",
   "language": "python",
   "name": "python3"
  },
  "language_info": {
   "codemirror_mode": {
    "name": "ipython",
    "version": 3
   },
   "file_extension": ".py",
   "mimetype": "text/x-python",
   "name": "python",
   "nbconvert_exporter": "python",
   "pygments_lexer": "ipython3",
   "version": "3.6.8"
  }
 },
 "nbformat": 4,
 "nbformat_minor": 2
}
